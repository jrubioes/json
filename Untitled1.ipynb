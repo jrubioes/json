{
 "cells": [
  {
   "cell_type": "code",
   "execution_count": 1,
   "metadata": {},
   "outputs": [
    {
     "name": "stdout",
     "output_type": "stream",
     "text": [
      "10\n"
     ]
    }
   ],
   "source": [
    "total = 0\n",
    "for i in range(1, 5):\n",
    "    total += i\n",
    "print(total)"
   ]
  },
  {
   "cell_type": "code",
   "execution_count": 2,
   "metadata": {},
   "outputs": [
    {
     "name": "stdout",
     "output_type": "stream",
     "text": [
      "10\n"
     ]
    }
   ],
   "source": [
    "total2 = 0\n",
    "j = 1\n",
    "while j < 5:\n",
    "    total2 += j\n",
    "    j += 1\n",
    "print(total2)"
   ]
  },
  {
   "cell_type": "code",
   "execution_count": 4,
   "metadata": {},
   "outputs": [
    {
     "name": "stdout",
     "output_type": "stream",
     "text": [
      "5\n",
      "10\n"
     ]
    }
   ],
   "source": [
    "print(j)\n",
    "print(total2)"
   ]
  },
  {
   "cell_type": "code",
   "execution_count": 16,
   "metadata": {},
   "outputs": [
    {
     "name": "stdout",
     "output_type": "stream",
     "text": [
      "5\n",
      "9\n",
      "12\n",
      "14\n",
      "15\n"
     ]
    }
   ],
   "source": [
    "var = 0\n",
    "i = 0\n",
    "lista = [5,4,3,2,1,0, -1,-2,-3,-4,-5]\n",
    "while True:\n",
    "    var += lista[i]\n",
    "    i += 1\n",
    "    if lista[i] <= 0:\n",
    "        break\n",
    "    print(var)\n",
    "print(var)"
   ]
  },
  {
   "cell_type": "code",
   "execution_count": 17,
   "metadata": {},
   "outputs": [
    {
     "name": "stdout",
     "output_type": "stream",
     "text": [
      "15\n"
     ]
    }
   ],
   "source": [
    "var = 0\n",
    "i = 0\n",
    "lista = [5,4,3,2,1,0, -1,-2,-3,-4,-5]\n",
    "for element in lista:\n",
    "    if element <= 0:\n",
    "        break\n",
    "    var += element\n",
    "print(var)"
   ]
  },
  {
   "cell_type": "code",
   "execution_count": 21,
   "metadata": {},
   "outputs": [
    {
     "name": "stdout",
     "output_type": "stream",
     "text": [
      "-15\n"
     ]
    }
   ],
   "source": [
    "var = 0\n",
    "i = 0\n",
    "lista = [5,-1,4,3,2,1,0,-2,-3,-4,-5]\n",
    "for element in lista:\n",
    "    if element <= 0:\n",
    "        var += element    \n",
    "print(var)"
   ]
  },
  {
   "cell_type": "code",
   "execution_count": 1,
   "metadata": {},
   "outputs": [],
   "source": [
    "from numpy import arange\n",
    "bike_list = arange(1, 50, 2)\n",
    "equit_list = arange(0, 250, 10)\n",
    "non_sbc = arange(150, 0, -6)"
   ]
  },
  {
   "cell_type": "code",
   "execution_count": 15,
   "metadata": {},
   "outputs": [
    {
     "name": "stdout",
     "output_type": "stream",
     "text": [
      "1,0,150\n",
      "\n",
      "3,10,144\n",
      "\n",
      "5,20,138\n",
      "\n",
      "7,30,132\n",
      "\n",
      "9,40,126\n",
      "\n",
      "11,50,120\n",
      "\n",
      "13,60,114\n",
      "\n",
      "15,70,108\n",
      "\n",
      "17,80,102\n",
      "\n",
      "19,90,96\n",
      "\n",
      "21,100,90\n",
      "\n",
      "23,110,84\n",
      "\n",
      "25,120,78\n",
      "\n",
      "27,130,72\n",
      "\n",
      "29,140,66\n",
      "\n",
      "31,150,60\n",
      "\n",
      "33,160,54\n",
      "\n",
      "35,170,48\n",
      "\n",
      "37,180,42\n",
      "\n",
      "39,190,36\n",
      "\n",
      "41,200,30\n",
      "\n",
      "43,210,24\n",
      "\n",
      "45,220,18\n",
      "\n",
      "47,230,12\n",
      "\n",
      "49,240,6\n",
      "\n"
     ]
    }
   ],
   "source": [
    "with open(\"output_date.csv\",\"w\") as out_file:\n",
    "    for i in range(len(bike_list)):\n",
    "        out_string =\"\"\n",
    "        out_string += str(bike_list[i])\n",
    "        out_string += \",\" + str(equit_list[i])\n",
    "        out_string += \",\" + str(non_sbc[i])\n",
    "        out_string += \"\\n\"\n",
    "        print(out_string)\n",
    "        out_file.write(out_string)"
   ]
  },
  {
   "cell_type": "code",
   "execution_count": 16,
   "metadata": {},
   "outputs": [
    {
     "name": "stdout",
     "output_type": "stream",
     "text": [
      "1,0,150\r\n",
      "3,10,144\r\n",
      "5,20,138\r\n",
      "7,30,132\r\n",
      "9,40,126\r\n",
      "11,50,120\r\n",
      "13,60,114\r\n",
      "15,70,108\r\n",
      "17,80,102\r\n",
      "19,90,96\r\n",
      "21,100,90\r\n",
      "23,110,84\r\n",
      "25,120,78\r\n",
      "27,130,72\r\n",
      "29,140,66\r\n",
      "31,150,60\r\n",
      "33,160,54\r\n",
      "35,170,48\r\n",
      "37,180,42\r\n",
      "39,190,36\r\n",
      "41,200,30\r\n",
      "43,210,24\r\n",
      "45,220,18\r\n",
      "47,230,12\r\n",
      "49,240,6\r\n"
     ]
    }
   ],
   "source": [
    "!cat output_date.csv"
   ]
  },
  {
   "cell_type": "code",
   "execution_count": null,
   "metadata": {},
   "outputs": [],
   "source": []
  }
 ],
 "metadata": {
  "kernelspec": {
   "display_name": "Python 3",
   "language": "python",
   "name": "python3"
  },
  "language_info": {
   "codemirror_mode": {
    "name": "ipython",
    "version": 3
   },
   "file_extension": ".py",
   "mimetype": "text/x-python",
   "name": "python",
   "nbconvert_exporter": "python",
   "pygments_lexer": "ipython3",
   "version": "3.6.3"
  }
 },
 "nbformat": 4,
 "nbformat_minor": 2
}
